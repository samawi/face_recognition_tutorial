{
 "cells": [
  {
   "cell_type": "code",
   "execution_count": 1,
   "source": [
    "import face_recognition\r\n",
    "import cv2"
   ],
   "outputs": [],
   "metadata": {}
  },
  {
   "cell_type": "code",
   "execution_count": 2,
   "source": [
    "webcam_video_stream = cv2.VideoCapture(1)"
   ],
   "outputs": [],
   "metadata": {}
  },
  {
   "cell_type": "code",
   "execution_count": 3,
   "source": [
    "all_face_locations = []"
   ],
   "outputs": [],
   "metadata": {}
  },
  {
   "cell_type": "code",
   "execution_count": 4,
   "source": [
    "while True:\r\n",
    "    ret, current_frame = webcam_video_stream.read()\r\n",
    "    current_frame_small = cv2.resize(current_frame, (0,0), fx=0.25, fy=0.25)\r\n",
    "    all_face_locations = face_recognition.face_locations(current_frame_small, number_of_times_to_upsample=2, model='hog')\r\n",
    "\r\n",
    "    for index, current_face_location in enumerate(all_face_locations):\r\n",
    "        top_pos, right_pos, bottom_pos, left_pos = current_face_location\r\n",
    "        top_pos = top_pos * 4\r\n",
    "        right_pos = right_pos * 4\r\n",
    "        bottom_pos = bottom_pos * 4\r\n",
    "        left_pos = left_pos *4\r\n",
    "\r\n",
    "        cv2.rectangle(current_frame, (left_pos, top_pos), (right_pos, bottom_pos), (0, 0, 255), 2)\r\n",
    "\r\n",
    "    cv2.imshow('Webcam Video', current_frame)\r\n",
    "\r\n",
    "    if cv2.waitKey(1) & 0xFF == ord('q'):\r\n",
    "        break\r\n",
    "\r\n",
    "webcam_video_stream.release()\r\n",
    "cv2.destroyAllWindows()"
   ],
   "outputs": [],
   "metadata": {}
  }
 ],
 "metadata": {
  "orig_nbformat": 4,
  "language_info": {
   "name": "python",
   "version": "3.9.6",
   "mimetype": "text/x-python",
   "codemirror_mode": {
    "name": "ipython",
    "version": 3
   },
   "pygments_lexer": "ipython3",
   "nbconvert_exporter": "python",
   "file_extension": ".py"
  },
  "kernelspec": {
   "name": "python3",
   "display_name": "Python 3.9.6 64-bit ('face': conda)"
  },
  "interpreter": {
   "hash": "8ee70c5dde2d08fc8b2cae8e994f1e34815e93568d7c5c8b613b3559afac42c1"
  }
 },
 "nbformat": 4,
 "nbformat_minor": 2
}