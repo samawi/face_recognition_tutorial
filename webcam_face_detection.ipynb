{
 "cells": [
  {
   "cell_type": "code",
   "execution_count": 6,
   "source": [
    "import face_recognition\n",
    "import cv2"
   ],
   "outputs": [],
   "metadata": {}
  },
  {
   "cell_type": "code",
   "execution_count": 7,
   "source": [
    "webcam_video_stream = cv2.VideoCapture(0)"
   ],
   "outputs": [],
   "metadata": {}
  },
  {
   "cell_type": "code",
   "execution_count": 8,
   "source": [
    "all_face_locations = []"
   ],
   "outputs": [],
   "metadata": {}
  },
  {
   "cell_type": "code",
   "execution_count": 9,
   "source": [
    "while True:\n",
    "    ret, current_frame = webcam_video_stream.read()\n",
    "    current_frame_small = cv2.resize(current_frame, (0,0), fx=0.25, fy=0.25)\n",
    "    all_face_locations = face_recognition.face_locations(current_frame_small, number_of_times_to_upsample=1, model='hog')\n",
    "\n",
    "    for index, current_face_location in enumerate(all_face_locations):\n",
    "        top_pos, right_pos, bottom_pos, left_pos = current_face_location\n",
    "        top_pos = top_pos * 4\n",
    "        right_pos = right_pos * 4\n",
    "        bottom_pos = bottom_pos * 4\n",
    "        left_pos = left_pos *4\n",
    "\n",
    "        cv2.rectangle(current_frame, (left_pos, top_pos), (right_pos, bottom_pos), (0, 0, 255), 2)\n",
    "\n",
    "    cv2.imshow('Webcam Video', current_frame)\n",
    "\n",
    "    if cv2.waitKey(1) & 0xFF == ord('q'):\n",
    "        break\n",
    "\n",
    "webcam_video_stream.release()\n",
    "cv2.destroyAllWindows()"
   ],
   "outputs": [],
   "metadata": {}
  }
 ],
 "metadata": {
  "orig_nbformat": 4,
  "language_info": {
   "name": "python",
   "version": "3.8.11",
   "mimetype": "text/x-python",
   "codemirror_mode": {
    "name": "ipython",
    "version": 3
   },
   "pygments_lexer": "ipython3",
   "nbconvert_exporter": "python",
   "file_extension": ".py"
  },
  "kernelspec": {
   "name": "python3",
   "display_name": "Python 3.8.11 64-bit ('face_recognition': conda)"
  },
  "interpreter": {
   "hash": "6be537ea32a60e5c9c90c4ebe218127003ba518d7dc0f3a8ae73d34d562f0585"
  }
 },
 "nbformat": 4,
 "nbformat_minor": 2
}