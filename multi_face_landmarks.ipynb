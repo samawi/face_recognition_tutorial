{
    "cells": [
        {
            "cell_type": "code",
            "execution_count": 5,
            "source": [
                "import face_recognition\n",
                "from PIL import Image, ImageDraw"
            ],
            "outputs": [],
            "metadata": {}
        },
        {
            "cell_type": "code",
            "execution_count": 6,
            "source": [
                "# Load the jpg file into a numpy array\n",
                "face_image = face_recognition.load_image_file('images/testing/trump-modi.jpg')\n",
                "\n",
                "# convert the numpy array image into pil image object\n",
                "pil_image = Image.fromarray(face_image)\n",
                "\n",
                "# convert the pil image to draw object\n",
                "d = ImageDraw.Draw(pil_image)"
            ],
            "outputs": [],
            "metadata": {}
        },
        {
            "cell_type": "code",
            "execution_count": 7,
            "source": [
                "# find all facial landmarks in all the faces in the image\n",
                "face_landmarks_list = face_recognition.face_landmarks(face_image)"
            ],
            "outputs": [],
            "metadata": {}
        },
        {
            "cell_type": "code",
            "execution_count": 8,
            "source": [
                "# loop for every face\n",
                "index = 0\n",
                "\n",
                "while index < len(face_landmarks_list):\n",
                "\n",
                "    # loop \n",
                "    for face_landmarks in face_landmarks_list:\n",
                "\n",
                " \n",
                "        # join each face landmark points\n",
                "        d.line(face_landmarks['chin'], fill=(255,255,255), width=2)\n",
                "        d.line(face_landmarks['left_eyebrow'], fill=(255,255,255), width=2)\n",
                "        d.line(face_landmarks['right_eyebrow'], fill=(255,255,255), width=2)\n",
                "        d.line(face_landmarks['nose_bridge'], fill=(255,255,255), width=2)\n",
                "        d.line(face_landmarks['nose_tip'], fill=(255,255,255), width=2)\n",
                "        d.line(face_landmarks['left_eye'], fill=(255,255,255), width=2)\n",
                "        d.line(face_landmarks['right_eye'], fill=(255,255,255), width=2)\n",
                "        d.line(face_landmarks['top_lip'], fill=(255,255,255), width=2)\n",
                "        d.line(face_landmarks['bottom_lip'], fill=(255,255,255), width=2)\n",
                "\n",
                "    index += 1\n",
                "\n",
                "pil_image.show()"
            ],
            "outputs": [],
            "metadata": {}
        }
    ],
    "metadata": {
        "orig_nbformat": 4,
        "language_info": {
            "name": "python",
            "version": "3.9.6",
            "mimetype": "text/x-python",
            "codemirror_mode": {
                "name": "ipython",
                "version": 3
            },
            "pygments_lexer": "ipython3",
            "nbconvert_exporter": "python",
            "file_extension": ".py"
        },
        "kernelspec": {
            "name": "python3",
            "display_name": "Python 3.9.6 64-bit ('tensorflow1': conda)"
        },
        "interpreter": {
            "hash": "e68bb6439fcc53a682a5839c4f306372fff9a5c2c5cd5802c11b933a7d10d0f6"
        }
    },
    "nbformat": 4,
    "nbformat_minor": 2
}