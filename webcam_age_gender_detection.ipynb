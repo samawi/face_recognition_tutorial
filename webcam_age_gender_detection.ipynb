{
 "cells": [
  {
   "cell_type": "code",
   "execution_count": 4,
   "source": [
    "import face_recognition\r\n",
    "import cv2"
   ],
   "outputs": [],
   "metadata": {}
  },
  {
   "cell_type": "code",
   "execution_count": 5,
   "source": [
    "webcam_video_stream = cv2.VideoCapture(0)\n",
    "all_face_locations = []\n",
    "AGE_GENDER_MODEL_MEAN_VALUES = (78.4263377603, 87.7689143744, 114.895847746)\n",
    "\n",
    "gender_label_list = ['Male', 'Female']\n",
    "gender_protext = 'dataset/gender_deploy.prototxt'\n",
    "gender_caffemodel = 'dataset/gender_net.caffemodel'\n",
    "gender_cov_net = cv2.dnn.readNet(gender_caffemodel, gender_protext)\n",
    "\n",
    "age_label_list = ['(0-2)', '(4-6)', '(8-12)', '(15-20)', '(25-32)', '(38-43)', '(48-53)', '(60-100)']\n",
    "age_protext = 'dataset/age_deploy.prototxt'\n",
    "age_caffemodel = 'dataset/age_net.caffemodel'\n",
    "age_cov_net = cv2.dnn.readNet(age_caffemodel, age_protext)"
   ],
   "outputs": [],
   "metadata": {}
  },
  {
   "cell_type": "code",
   "execution_count": 6,
   "source": [
    "while True:\n",
    "    ret, current_frame = webcam_video_stream.read()\n",
    "    current_frame_small = cv2.resize(current_frame, (0,0), fx=0.25, fy=0.25)\n",
    "    all_face_locations = face_recognition.face_locations(current_frame_small, number_of_times_to_upsample=2, model='hog')\n",
    "\n",
    "    for index, current_face_location in enumerate(all_face_locations):\n",
    "\n",
    "        # splitting the tuple to get the four position values of current face\n",
    "        top_pos, right_pos, bottom_pos, left_pos = current_face_location\n",
    "        top_pos *= 4\n",
    "        right_pos *= 4\n",
    "        bottom_pos *= 4\n",
    "        left_pos *= 4\n",
    "\n",
    "        # slicing the current face from main image\n",
    "        current_face_image = current_frame[top_pos:bottom_pos, left_pos:right_pos]\n",
    "\n",
    "        # create blob of current face slice\n",
    "        current_face_image_blob = cv2.dnn.blobFromImage(current_face_image, 1, (227, 227), AGE_GENDER_MODEL_MEAN_VALUES, swapRB = False)\n",
    "\n",
    "        # predict gender\n",
    "        gender_cov_net.setInput(current_face_image_blob)\n",
    "        gender_predictions = gender_cov_net.forward()\n",
    "        gender = gender_label_list[gender_predictions[0].argmax()]\n",
    "\n",
    "        # predict age\n",
    "        age_cov_net.setInput(current_face_image_blob)\n",
    "        age_predictions = age_cov_net.forward()\n",
    "        age = age_label_list[age_predictions[0].argmax()]\n",
    "\n",
    "        # draw rectangle around the face detected\n",
    "        cv2.rectangle(current_frame, (left_pos, top_pos), (right_pos, bottom_pos), (0, 0, 255), 2)\n",
    "\n",
    "        # Draw a label with a text below the face\n",
    "        cv2.rectangle(current_frame, (left_pos, bottom_pos - 35), (right_pos, bottom_pos), (0, 0, 255), cv2.FILLED)\n",
    "        font = cv2.FONT_HERSHEY_DUPLEX\n",
    "        cv2.putText(current_frame, gender+\" \"+age+\" \"+\"yrs\", (left_pos+6, bottom_pos-6), font, 0.5, (255,255,255), 1)\n",
    "\n",
    "\n",
    "    cv2.imshow('Webcam Video', current_frame)\n",
    "\n",
    "    if cv2.waitKey(1) & 0xFF == ord('q'):\n",
    "        break\n",
    "\n",
    "\n",
    "webcam_video_stream.release()\n",
    "cv2.destroyAllWindows()"
   ],
   "outputs": [],
   "metadata": {}
  }
 ],
 "metadata": {
  "orig_nbformat": 4,
  "language_info": {
   "name": "python",
   "version": "3.9.6",
   "mimetype": "text/x-python",
   "codemirror_mode": {
    "name": "ipython",
    "version": 3
   },
   "pygments_lexer": "ipython3",
   "nbconvert_exporter": "python",
   "file_extension": ".py"
  },
  "kernelspec": {
   "name": "python3",
   "display_name": "Python 3.9.6 64-bit ('tensorflow1': conda)"
  },
  "interpreter": {
   "hash": "e68bb6439fcc53a682a5839c4f306372fff9a5c2c5cd5802c11b933a7d10d0f6"
  }
 },
 "nbformat": 4,
 "nbformat_minor": 2
}