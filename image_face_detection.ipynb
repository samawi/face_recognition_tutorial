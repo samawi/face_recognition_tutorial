{
    "cells": [
        {
            "cell_type": "code",
            "execution_count": 1,
            "source": [
                "import cv2\r\n",
                "import face_recognition"
            ],
            "outputs": [],
            "metadata": {}
        },
        {
            "cell_type": "code",
            "execution_count": 2,
            "source": [
                "image_to_detect = cv2.imread('images/testing/trump-modi.jpg')"
            ],
            "outputs": [],
            "metadata": {}
        },
        {
            "cell_type": "code",
            "execution_count": 3,
            "source": [
                "all_face_locations = face_recognition.face_locations(image_to_detect, model='hog')"
            ],
            "outputs": [],
            "metadata": {}
        },
        {
            "cell_type": "code",
            "execution_count": 4,
            "source": [
                "print('There are {} no of faces in this image'.format(len(all_face_locations)))"
            ],
            "outputs": [
                {
                    "output_type": "stream",
                    "name": "stdout",
                    "text": [
                        "There are 2 no of faces in this image\n"
                    ]
                }
            ],
            "metadata": {}
        },
        {
            "cell_type": "code",
            "execution_count": 5,
            "source": [
                "for index, current_face_location in enumerate(all_face_locations):\r\n",
                "    top_pos, right_pos, bottom_pos, left_pos = current_face_location\r\n",
                "    print('Fount face {} at top: {}, right: {}, bottom: {}, left: {}'.format(index+1, top_pos, right_pos, bottom_pos, left_pos))\r\n",
                "    current_face_image = image_to_detect[top_pos:bottom_pos, left_pos:right_pos]\r\n",
                "    cv2.imshow(\"Face No: \"+str(index), current_face_image)\r\n",
                "cv2.waitKey(0)\r\n",
                "cv2.destroyAllWindows()"
            ],
            "outputs": [
                {
                    "output_type": "stream",
                    "name": "stdout",
                    "text": [
                        "Fount face 1 at top: 56, right: 275, bottom: 146, left: 185\n",
                        "Fount face 2 at top: 116, right: 504, bottom: 206, left: 414\n"
                    ]
                }
            ],
            "metadata": {}
        }
    ],
    "metadata": {
        "orig_nbformat": 4,
        "language_info": {
            "name": "python",
            "version": "3.9.6",
            "mimetype": "text/x-python",
            "codemirror_mode": {
                "name": "ipython",
                "version": 3
            },
            "pygments_lexer": "ipython3",
            "nbconvert_exporter": "python",
            "file_extension": ".py"
        },
        "kernelspec": {
            "name": "python3",
            "display_name": "Python 3.9.6 64-bit ('face': conda)"
        },
        "interpreter": {
            "hash": "8ee70c5dde2d08fc8b2cae8e994f1e34815e93568d7c5c8b613b3559afac42c1"
        }
    },
    "nbformat": 4,
    "nbformat_minor": 2
}