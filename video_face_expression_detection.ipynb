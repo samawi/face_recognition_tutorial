{
 "cells": [
  {
   "cell_type": "code",
   "execution_count": null,
   "source": [
    "import face_recognition\r\n",
    "import cv2\r\n",
    "import numpy as np\r\n",
    "from keras.preprocessing import image\r\n",
    "from keras.models import model_from_json"
   ],
   "outputs": [
    {
     "output_type": "error",
     "ename": "Error",
     "evalue": "Session cannot generate requests",
     "traceback": [
      "Error: Session cannot generate requests",
      "at w.executeCodeCell (c:\\Users\\mawan\\.vscode\\extensions\\ms-toolsai.jupyter-2021.8.1236758218\\out\\client\\extension.js:90:327199)",
      "at w.execute (c:\\Users\\mawan\\.vscode\\extensions\\ms-toolsai.jupyter-2021.8.1236758218\\out\\client\\extension.js:90:326520)",
      "at w.start (c:\\Users\\mawan\\.vscode\\extensions\\ms-toolsai.jupyter-2021.8.1236758218\\out\\client\\extension.js:90:322336)",
      "at processTicksAndRejections (internal/process/task_queues.js:93:5)",
      "at t.CellExecutionQueue.executeQueuedCells (c:\\Users\\mawan\\.vscode\\extensions\\ms-toolsai.jupyter-2021.8.1236758218\\out\\client\\extension.js:90:336863)",
      "at t.CellExecutionQueue.start (c:\\Users\\mawan\\.vscode\\extensions\\ms-toolsai.jupyter-2021.8.1236758218\\out\\client\\extension.js:90:336403)"
     ]
    }
   ],
   "metadata": {}
  },
  {
   "cell_type": "code",
   "execution_count": null,
   "source": [
    "webcam_video_stream = cv2.VideoCapture('images/testing/modi.mp4')"
   ],
   "outputs": [],
   "metadata": {}
  },
  {
   "cell_type": "code",
   "execution_count": null,
   "source": [
    "face_exp_model = model_from_json(open('dataset/facial_expression_model_structure.json','r').read())\r\n",
    "face_exp_model.load_weights('dataset/facial_expression_model_weights.h5')\r\n",
    "emotions_label = ('angry', 'disgust', 'fear', 'happy', 'sad', 'surprise', 'neutral')"
   ],
   "outputs": [],
   "metadata": {}
  },
  {
   "cell_type": "code",
   "execution_count": null,
   "source": [
    "all_face_locations = []"
   ],
   "outputs": [],
   "metadata": {}
  },
  {
   "cell_type": "code",
   "execution_count": null,
   "source": [
    "while True:\r\n",
    "    ret, current_frame = webcam_video_stream.read()\r\n",
    "    current_frame_small = cv2.resize(current_frame, (0,0), fx=0.25, fy=0.25)\r\n",
    "    all_face_locations = face_recognition.face_locations(current_frame_small, number_of_times_to_upsample=2, model='hog')\r\n",
    "\r\n",
    "    for index, current_face_location in enumerate(all_face_locations):\r\n",
    "        top_pos, right_pos, bottom_pos, left_pos = current_face_location\r\n",
    "        top_pos *= 4\r\n",
    "        right_pos *= 4\r\n",
    "        bottom_pos *= 4\r\n",
    "        left_pos *= 4\r\n",
    "\r\n",
    "        current_face_image = current_frame[top_pos:bottom_pos, left_pos:right_pos]\r\n",
    "        current_face_image = cv2.cvtColor(current_face_image, cv2.COLOR_BGR2GRAY)\r\n",
    "        current_face_image = cv2.resize(current_face_image, (48, 48))\r\n",
    "        img_pixels = image.img_to_array(current_face_image)\r\n",
    "        img_pixels = np.expand_dims(img_pixels, axis = 0)\r\n",
    "        img_pixels /= 255\r\n",
    "\r\n",
    "        exp_predictions = face_exp_model.predict(img_pixels)\r\n",
    "        max_index = np.argmax(exp_predictions[0])\r\n",
    "        emotion_label = emotions_label[max_index]\r\n",
    "\r\n",
    "        # Draw  a box around the face\r\n",
    "        cv2.rectangle(current_frame, (left_pos, top_pos), (right_pos, bottom_pos), (0, 0, 255), 2)\r\n",
    "\r\n",
    "        # Draw a label with a text below the face\r\n",
    "        cv2.rectangle(current_frame, (left_pos, bottom_pos - 35), (right_pos, bottom_pos), (0, 0, 255), cv2.FILLED)\r\n",
    "        font = cv2.FONT_HERSHEY_DUPLEX\r\n",
    "        cv2.putText(current_frame, emotion_label, (left_pos+6, bottom_pos-6), font, 0.75, (255,255,255), 1)\r\n",
    "\r\n",
    "    cv2.imshow('Webcam Video', current_frame)\r\n",
    "\r\n",
    "    if cv2.waitKey(1) & 0xFF == ord('q'):\r\n",
    "        break\r\n",
    "\r\n",
    "\r\n",
    "webcam_video_stream.release()\r\n",
    "cv2.destroyAllWindows()"
   ],
   "outputs": [],
   "metadata": {}
  }
 ],
 "metadata": {
  "orig_nbformat": 4,
  "language_info": {
   "name": "python",
   "version": "3.9.6",
   "mimetype": "text/x-python",
   "codemirror_mode": {
    "name": "ipython",
    "version": 3
   },
   "pygments_lexer": "ipython3",
   "nbconvert_exporter": "python",
   "file_extension": ".py"
  },
  "kernelspec": {
   "name": "python3",
   "display_name": "Python 3.9.6 64-bit ('tf_face_recognition': conda)"
  },
  "interpreter": {
   "hash": "1c0c3d252a9f5a07b5ea8c2578ebace1bbfbf742dc4d57a64185f556e7f5922a"
  }
 },
 "nbformat": 4,
 "nbformat_minor": 2
}